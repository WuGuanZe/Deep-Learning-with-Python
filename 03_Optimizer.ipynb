{
  "nbformat": 4,
  "nbformat_minor": 0,
  "metadata": {
    "colab": {
      "name": "03_Optimizer.ipynb",
      "provenance": [],
      "collapsed_sections": []
    },
    "kernelspec": {
      "name": "python3",
      "display_name": "Python 3"
    },
    "language_info": {
      "name": "python"
    },
    "accelerator": "GPU"
  },
  "cells": [
    {
      "cell_type": "markdown",
      "metadata": {
        "id": "Txt4u5pGOxUz"
      },
      "source": [
        "# **優化器**"
      ]
    },
    {
      "cell_type": "markdown",
      "metadata": {
        "id": "UcOf3VcueDdb"
      },
      "source": [
        "## EX01. 隨機梯度下降法"
      ]
    },
    {
      "cell_type": "code",
      "metadata": {
        "id": "m0r5n8UuOtgP"
      },
      "source": [
        "import numpy as np\n",
        "import tensorflow as tf\n",
        "import matplotlib.pyplot as plt\n",
        "from tensorflow.keras import optimizers"
      ],
      "execution_count": null,
      "outputs": []
    },
    {
      "cell_type": "code",
      "metadata": {
        "colab": {
          "base_uri": "https://localhost:8080/"
        },
        "id": "2jE81hMdO9RG",
        "outputId": "4859beb5-77ed-4c58-d1f8-ab0ae378278f"
      },
      "source": [
        "# SGD\n",
        "sgd_opt = tf.keras.optimizers.SGD(learning_rate=0.01)\n",
        "\n",
        "# 任意變數\n",
        "sgd_var = tf.Variable(1.0)\n",
        "\n",
        "# 損失函數\n",
        "sgd_loss = lambda: (sgd_var ** 2)/2.0\n",
        "\n",
        "# step_count：優化的步驟\n",
        "for i in range(51):\n",
        "    step_count = sgd_opt.minimize(sgd_loss, [sgd_var]).numpy()\n",
        "    if i % 10 == 0 and i > 0:\n",
        "        print(f'優化的步驟:{step_count}, 變數:{sgd_var.numpy()}')"
      ],
      "execution_count": null,
      "outputs": [
        {
          "output_type": "stream",
          "text": [
            "優化的步驟:11, 變數:0.8953382968902588\n",
            "優化的步驟:21, 變數:0.8097279071807861\n",
            "優化的步驟:31, 變數:0.7323033809661865\n",
            "優化的步驟:41, 變數:0.6622819900512695\n",
            "優化的步驟:51, 變數:0.5989561080932617\n"
          ],
          "name": "stdout"
        }
      ]
    },
    {
      "cell_type": "markdown",
      "metadata": {
        "id": "TS5ET4lxP1fi"
      },
      "source": [
        "## EX02. 測試優化五次隨機梯度下降法的動能"
      ]
    },
    {
      "cell_type": "code",
      "metadata": {
        "colab": {
          "base_uri": "https://localhost:8080/"
        },
        "id": "fj9uB3AhPfqI",
        "outputId": "6b3abd51-9867-41d4-f0a6-69a72b9d772a"
      },
      "source": [
        "sgd_opt = tf.keras.optimizers.SGD(learning_rate=0.01, momentum=0.8)\n",
        "sgd_var = tf.Variable(1.0)\n",
        "\n",
        "# 損失函數起始值\n",
        "sgd_val0 = sgd_var.value()\n",
        "print(f'sgd_val0:{sgd_val0}')\n",
        "# 損失函數\n",
        "sgd_loss = lambda: (sgd_var ** 2)/2.0\n",
        "\n",
        "# 優化第一次  \n",
        "step_count = sgd_opt.minimize(sgd_loss, [sgd_var]).numpy()\n",
        "sgd_val1 = sgd_var.value()\n",
        "print(f'優化的步驟:{step_count}, sgd_val1:{sgd_val1}, 變化值:{(sgd_val0 - sgd_val1).numpy()}')\n",
        "\n",
        "# 優化第二次  \n",
        "step_count = sgd_opt.minimize(sgd_loss, [sgd_var]).numpy()\n",
        "sgd_val2 = sgd_var.value()\n",
        "print(f'優化的步驟:{step_count}, sgd_val2:{sgd_val2}, 變化值:{(sgd_val1 - sgd_val2).numpy()}')\n",
        "\n",
        "# 優化第三次  \n",
        "step_count = sgd_opt.minimize(sgd_loss, [sgd_var]).numpy()\n",
        "sgd_val3 = sgd_var.value()\n",
        "print(f'優化的步驟:{step_count}, sgd_val3:{sgd_val3}, 變化值:{(sgd_val2 - sgd_val3).numpy()}')\n",
        "\n",
        "# 優化第四次  \n",
        "step_count = sgd_opt.minimize(sgd_loss, [sgd_var]).numpy()\n",
        "sgd_val4 = sgd_var.value()\n",
        "print(f'優化的步驟:{step_count}, sgd_val4:{sgd_val4}, 變化值:{(sgd_val3 - sgd_val4).numpy()}')\n",
        "\n",
        "# 優化第五次  \n",
        "step_count = sgd_opt.minimize(sgd_loss, [sgd_var]).numpy()\n",
        "sgd_val5 = sgd_var.value()\n",
        "print(f'優化的步驟:{step_count}, sgd_val5:{sgd_val5}, 變化值:{(sgd_val4 - sgd_val5).numpy()}')"
      ],
      "execution_count": null,
      "outputs": [
        {
          "output_type": "stream",
          "text": [
            "sgd_val0:1.0\n",
            "優化的步驟:1, sgd_val1:0.9900000095367432, 變化值:0.009999990463256836\n",
            "優化的步驟:2, sgd_val2:0.972100019454956, 變化值:0.01789999008178711\n",
            "優化的步驟:3, sgd_val3:0.9480590224266052, 變化值:0.02404099702835083\n",
            "優化的步驟:4, sgd_val4:0.9193456172943115, 變化值:0.0287134051322937\n",
            "優化的步驟:5, sgd_val5:0.8871814608573914, 變化值:0.032164156436920166\n"
          ],
          "name": "stdout"
        }
      ]
    },
    {
      "cell_type": "markdown",
      "metadata": {
        "id": "FBCiuME0eRVG"
      },
      "source": [
        "## EX03. 簡單測試 Adam "
      ]
    },
    {
      "cell_type": "code",
      "metadata": {
        "colab": {
          "base_uri": "https://localhost:8080/"
        },
        "id": "8HVt-39hdThE",
        "outputId": "90ece066-e055-4422-a9ea-1a08ccb94309"
      },
      "source": [
        "# Adam\n",
        "adam_opt = tf.keras.optimizers.Adam(learning_rate=0.01)\n",
        "\n",
        "# 任意變數\n",
        "adam_var = tf.Variable(1.0)\n",
        "\n",
        "# 損失函數\n",
        "adam_loss = lambda: (adam_var ** 2)/2.0\n",
        "\n",
        "# step_count：優化的步驟\n",
        "for i in range(17):\n",
        "    step_count = adam_opt.minimize(adam_loss, [adam_var]).numpy()\n",
        "    if i % 2 == 0 and i > 0:\n",
        "        print(f'優化的步驟:{step_count-1}, 變數:{adam_var.numpy()}')"
      ],
      "execution_count": null,
      "outputs": [
        {
          "output_type": "stream",
          "text": [
            "優化的步驟:2, 變數:0.9700096845626831\n",
            "優化的步驟:4, 變數:0.9500457048416138\n",
            "優化的步驟:6, 變數:0.9301228523254395\n",
            "優化的步驟:8, 變數:0.9102565050125122\n",
            "優化的步驟:10, 變數:0.8904616832733154\n",
            "優化的步驟:12, 變數:0.8707535266876221\n",
            "優化的步驟:14, 變數:0.8511466979980469\n",
            "優化的步驟:16, 變數:0.8316556215286255\n"
          ],
          "name": "stdout"
        }
      ]
    },
    {
      "cell_type": "code",
      "metadata": {
        "id": "TtADU_G2fQcn"
      },
      "source": [
        ""
      ],
      "execution_count": null,
      "outputs": []
    }
  ]
}