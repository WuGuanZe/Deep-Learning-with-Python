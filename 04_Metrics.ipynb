{
  "nbformat": 4,
  "nbformat_minor": 0,
  "metadata": {
    "colab": {
      "name": "04_Metrics.ipynb",
      "provenance": []
    },
    "kernelspec": {
      "name": "python3",
      "display_name": "Python 3"
    },
    "language_info": {
      "name": "python"
    },
    "accelerator": "GPU"
  },
  "cells": [
    {
      "cell_type": "markdown",
      "metadata": {
        "id": "V9d6aVURf60d"
      },
      "source": [
        "# **效能衡量指標**"
      ]
    },
    {
      "cell_type": "code",
      "metadata": {
        "id": "GmC1SsGvf3Qf"
      },
      "source": [
        "import numpy as np\n",
        "import tensorflow as tf\n",
        "import matplotlib.pyplot as plt\n",
        "from tensorflow.keras import metrics\n",
        "from sklearn.metrics import accuracy_score, classification_report\n",
        "from sklearn.metrics import precision_score, recall_score, confusion_matrix"
      ],
      "execution_count": null,
      "outputs": []
    },
    {
      "cell_type": "markdown",
      "metadata": {
        "id": "ZrIgpU7ogLn4"
      },
      "source": [
        "# **EX01. 混淆矩陣**"
      ]
    },
    {
      "cell_type": "code",
      "metadata": {
        "colab": {
          "base_uri": "https://localhost:8080/"
        },
        "id": "FPJbJZZagHks",
        "outputId": "f37613f9-a213-4e6a-a823-ed6da685861c"
      },
      "source": [
        "from sklearn.metrics import confusion_matrix\n",
        "\n",
        "cm_y_true = [1, 1, 1, 0, 0, 0, 0, 0]  # 實際值\n",
        "cm_y_pred = [1, 0, 1, 0, 0, 0, 1, 0]  # 預測值\n",
        "\n",
        "# 混淆矩陣(Confusion Matrix)\n",
        "tn, fp, fn, tp  = confusion_matrix(cm_y_true, cm_y_pred).ravel()\n",
        "print(f'TP={tp}, FP={fp}, TN={tn}, FN={fn}')"
      ],
      "execution_count": null,
      "outputs": [
        {
          "output_type": "stream",
          "text": [
            "TP=2, FP=1, TN=4, FN=1\n"
          ],
          "name": "stdout"
        }
      ]
    },
    {
      "cell_type": "code",
      "metadata": {
        "colab": {
          "base_uri": "https://localhost:8080/",
          "height": 244
        },
        "id": "siYGN9-qgzVB",
        "outputId": "24db063e-94ac-4da0-914b-d544740dff22"
      },
      "source": [
        "# 顯示矩陣\n",
        "fig, ax = plt.subplots(figsize=(3.0, 3.0))\n",
        "\n",
        "# 1:藍色, 0:白色\n",
        "ax.matshow([[1, 0], [0, 1]], cmap=plt.cm.Blues, alpha=0.5)\n",
        "\n",
        "# 標示文字\n",
        "ax.text(x=0, y=0, s=tp, va='center', ha='center')\n",
        "ax.text(x=1, y=0, s=fp, va='center', ha='center')\n",
        "ax.text(x=0, y=1, s=tn, va='center', ha='center')\n",
        "ax.text(x=1, y=1, s=fn, va='center', ha='center')\n",
        "\n",
        "plt.xlabel('true', fontsize=30)\n",
        "plt.ylabel('predict', fontsize=30)\n",
        "\n",
        "# x/y 標籤\n",
        "plt.xticks([0,1], ['T', 'F'])\n",
        "plt.yticks([0,1], ['P', 'N'])\n",
        "plt.show()"
      ],
      "execution_count": null,
      "outputs": [
        {
          "output_type": "display_data",
          "data": {
            "image/png": "[encoded data removed]",
            "text/plain": [
              "<Figure size 216x216 with 1 Axes>"
            ]
          },
          "metadata": {
            "needs_background": "light"
          }
        }
      ]
    },
    {
      "cell_type": "markdown",
      "metadata": {
        "id": "yLTQn3BmxkLY"
      },
      "source": [
        "## EX02. 準確率"
      ]
    },
    {
      "cell_type": "code",
      "metadata": {
        "colab": {
          "base_uri": "https://localhost:8080/"
        },
        "id": "Htz0SzSphJZZ",
        "outputId": "865db19a-087b-43b2-d01b-3d7e6dc789b9"
      },
      "source": [
        "ma = metrics.Accuracy()\n",
        "ma.update_state(cm_y_true, cm_y_pred)\n",
        "\n",
        "print(f'準確率:{ma.result().numpy()}') "
      ],
      "execution_count": null,
      "outputs": [
        {
          "output_type": "stream",
          "text": [
            "準確率:0.75\n"
          ],
          "name": "stdout"
        }
      ]
    },
    {
      "cell_type": "markdown",
      "metadata": {
        "id": "YeMhcopyx_nZ"
      },
      "source": [
        "## EX03. 精確率"
      ]
    },
    {
      "cell_type": "code",
      "metadata": {
        "colab": {
          "base_uri": "https://localhost:8080/"
        },
        "id": "9Vsq9ebTx3nA",
        "outputId": "6f7c40a7-4889-478e-c8a5-4c3e39142723"
      },
      "source": [
        "mp = metrics.Precision()\n",
        "mp.update_state(cm_y_true, cm_y_pred)\n",
        "\n",
        "print(f'精確率:{mp.result().numpy()}')"
      ],
      "execution_count": null,
      "outputs": [
        {
          "output_type": "stream",
          "text": [
            "精確率:0.6666666865348816\n"
          ],
          "name": "stdout"
        }
      ]
    },
    {
      "cell_type": "markdown",
      "metadata": {
        "id": "gOA2dZRZyUJh"
      },
      "source": [
        "## EX04. 召回率"
      ]
    },
    {
      "cell_type": "code",
      "metadata": {
        "colab": {
          "base_uri": "https://localhost:8080/"
        },
        "id": "0V0wTl7uyOnB",
        "outputId": "32d780c3-c6f1-4d04-b478-a463b582adde"
      },
      "source": [
        "mr = metrics.Recall()\n",
        "mr.update_state(cm_y_true, cm_y_pred)\n",
        "\n",
        "print(f'召回率:{mr.result().numpy()}')"
      ],
      "execution_count": null,
      "outputs": [
        {
          "output_type": "stream",
          "text": [
            "召回率:0.6666666865348816\n"
          ],
          "name": "stdout"
        }
      ]
    },
    {
      "cell_type": "code",
      "metadata": {
        "id": "JjNr4tEEylLN"
      },
      "source": [
        ""
      ],
      "execution_count": null,
      "outputs": []
    }
  ]
}