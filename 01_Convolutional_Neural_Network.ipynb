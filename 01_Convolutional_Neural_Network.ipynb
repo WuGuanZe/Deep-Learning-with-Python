{
  "nbformat": 4,
  "nbformat_minor": 0,
  "metadata": {
    "colab": {
      "name": "01_Convolutional Neural Network",
      "provenance": [],
      "collapsed_sections": []
    },
    "kernelspec": {
      "name": "python3",
      "display_name": "Python 3"
    },
    "language_info": {
      "name": "python"
    },
    "accelerator": "GPU"
  },
  "cells": [
    {
      "cell_type": "markdown",
      "metadata": {
        "id": "ReL0nPqDbag8"
      },
      "source": [
        "# **EX01. 計算捲積**"
      ]
    },
    {
      "cell_type": "code",
      "metadata": {
        "colab": {
          "base_uri": "https://localhost:8080/"
        },
        "id": "_A3LDgfmbJZE",
        "outputId": "77034974-78c6-41e6-cbb9-a4a912f980e9"
      },
      "source": [
        "import numpy as np\n",
        "\n",
        "# Test\n",
        "source = np.array(list('111111111110111100111000110000100000')).astype(np.int)\n",
        "source = source.reshape(6,6)\n",
        "print('原始資料：')\n",
        "print(source)\n",
        "\n",
        "# Filter\n",
        "filter = np.array(list('1111111011001000')).astype(np.int).reshape(4,4)\n",
        "print('\\n濾波器:')\n",
        "print(filter)"
      ],
      "execution_count": null,
      "outputs": [
        {
          "output_type": "stream",
          "text": [
            "原始資料：\n",
            "[[1 1 1 1 1 1]\n",
            " [1 1 1 1 1 0]\n",
            " [1 1 1 1 0 0]\n",
            " [1 1 1 0 0 0]\n",
            " [1 1 0 0 0 0]\n",
            " [1 0 0 0 0 0]]\n",
            "\n",
            "濾波器:\n",
            "[[1 1 1 1]\n",
            " [1 1 1 0]\n",
            " [1 1 0 0]\n",
            " [1 0 0 0]]\n"
          ],
          "name": "stdout"
        }
      ]
    },
    {
      "cell_type": "code",
      "metadata": {
        "colab": {
          "base_uri": "https://localhost:8080/"
        },
        "id": "F1WQCK6qc5Hq",
        "outputId": "efb00bbe-ae91-41cf-c62d-862a9ffa03cd"
      },
      "source": [
        "# 初始化計算結果的矩陣\n",
        "width = height = source.shape[0] - filter.shape[0] + 1\n",
        "result = np.zeros((width, height))\n",
        "\n",
        "# 計算每一格\n",
        "for i in range(width):\n",
        "    for j in range(height):\n",
        "        value01 =source[i:i+filter.shape[0], j:j+filter.shape[1]] * filter\n",
        "        result[i, j] = np.sum(value01)\n",
        "print(result)"
      ],
      "execution_count": null,
      "outputs": [
        {
          "output_type": "stream",
          "text": [
            "[[10. 10. 10.]\n",
            " [10. 10.  6.]\n",
            " [10.  6.  3.]]\n"
          ],
          "name": "stdout"
        }
      ]
    },
    {
      "cell_type": "markdown",
      "metadata": {
        "id": "bEBmhMCEfh_u"
      },
      "source": [
        "## 卷積影像轉換函數"
      ]
    },
    {
      "cell_type": "code",
      "metadata": {
        "id": "Xp61qUDadWCq"
      },
      "source": [
        "# 卷積影像轉換函數\n",
        "from skimage.exposure import rescale_intensity\n",
        "\n",
        "def convolve(image01, kernel01):\n",
        "    # 取得圖像與濾波器的寬高\n",
        "    (imgH, imgW) = image01.shape[:2]\n",
        "    (kerH, kerW) = kernel01.shape[:2]\n",
        "\n",
        "    # 計算單邊所需的補零行數\n",
        "    pad01 = int((kW - 1) / 2)\n",
        "    image01 = cv2.copyMakeBorder(image01, pad01, pad01, pad01, pad01, cv2.BORDER_REPLICATE)\n",
        "    output01 = np.zeros((imgH, imgW), dtype=\"float32\")\n",
        "\n",
        "    # 卷積\n",
        "    for y in np.arange(pad01, imgH + pad01):\n",
        "        for x in np.arange(pad01, imgW + pad01):            \n",
        "            roi = image01[y - pad01:y + pad01 + 1, x - pad01:x + pad01 + 1]            \n",
        "            k = (roi * kernel01).sum()\n",
        "            output01[y - pad01, x - pad01] = k\n",
        "\n",
        "    # 調整影像色彩深淺範圍至 (0, 255)\n",
        "    output01 = rescale_intensity(output01, in_range=(0, 255))\n",
        "    output01 = (output01 * 255).astype(\"uint8\")\n",
        "   \n",
        "    return output01"
      ],
      "execution_count": null,
      "outputs": []
    },
    {
      "cell_type": "markdown",
      "metadata": {
        "id": "kAqUiJIBhryg"
      },
      "source": [
        "## 灰階化"
      ]
    },
    {
      "cell_type": "code",
      "metadata": {
        "id": "pz847sKnxvQS"
      },
      "source": [
        "import skimage\n",
        "import cv2\n",
        "\n",
        "# 從 skimage 取得內建的圖像\n",
        "image01 = skimage.data.chelsea()\n",
        "cv2.imshow(\"original\", image01)\n",
        "\n",
        "# 灰階化\n",
        "img_gray = cv2.cvtColor(image01, cv2.COLOR_BGR2GRAY)\n",
        "cv2.imshow(\"gray\", img_gray)\n",
        "\n",
        "cv2.waitKey(0)\n",
        "cv2.destroyAllWindows()"
      ],
      "execution_count": null,
      "outputs": []
    },
    {
      "cell_type": "markdown",
      "metadata": {
        "id": "701m3sHAxz25"
      },
      "source": [
        "## 模糊化"
      ]
    },
    {
      "cell_type": "code",
      "metadata": {
        "id": "6jyTBQc0x3yJ"
      },
      "source": [
        "# 小模糊 \n",
        "smallBlur01 = np.ones((6, 6), dtype=\"float\") * (1.0 / (6 * 6))\n",
        "\n",
        "convoleOutput01 = convolve(img_gray, smallBlur01)\n",
        "opencvOutput01 = cv2.filter2D(img_gray, -1, smallBlur01)\n",
        "cv2.imshow(\"small Blur\", convoleOutput01)\n",
        "\n",
        "# 大模糊\n",
        "largeBlur01 = np.ones((20, 20), dtype=\"float\") * (1.0 / (20 * 20))\n",
        "\n",
        "convoleOutput02 = convolve(img_gray, largeBlur01)\n",
        "opencvOutput02 = cv2.filter2D(img_gray, -1, largeBlur01)\n",
        "cv2.imshow(\"large Blur\", convoleOutput02)\n",
        "\n",
        "cv2.waitKey(0)\n",
        "cv2.destroyAllWindows()"
      ],
      "execution_count": null,
      "outputs": []
    },
    {
      "cell_type": "markdown",
      "metadata": {
        "id": "avUuxO-Iyvem"
      },
      "source": [
        "## 銳利化"
      ]
    },
    {
      "cell_type": "code",
      "metadata": {
        "id": "Ep-9ECtly0nB"
      },
      "source": [
        "sharpen01 = np.array((\n",
        "    [0, -2, 0],\n",
        "    [-2, 6, -2],\n",
        "    [0, -2, 0]), dtype=\"int\")\n",
        "\n",
        "convoleOutput01 = convolve(gray, sharpen01)\n",
        "opencvOutput01 = cv2.filter2D(gray, -1, sharpen01)\n",
        "cv2.imshow(\"sharpen01\", convoleOutput01)\n",
        "\n",
        "cv2.waitKey(0)\n",
        "cv2.destroyAllWindows()"
      ],
      "execution_count": null,
      "outputs": []
    },
    {
      "cell_type": "markdown",
      "metadata": {
        "id": "SgdNHGofzmRW"
      },
      "source": [
        "# **EX02. MNIST 模型強化**"
      ]
    },
    {
      "cell_type": "markdown",
      "metadata": {
        "id": "BMzw3AyZ0NuS"
      },
      "source": [
        "## Step01：載入 MNIST 手寫阿拉伯數字資料"
      ]
    },
    {
      "cell_type": "code",
      "metadata": {
        "colab": {
          "base_uri": "https://localhost:8080/"
        },
        "id": "bcdx4Fqsz54k",
        "outputId": "ea41cbd1-d912-45cb-818f-714c9ce9fa78"
      },
      "source": [
        "import tensorflow as tf\n",
        "mnist = tf.keras.datasets.mnist\n",
        "\n",
        "# 載入 MNIST 手寫阿拉伯數字資料\n",
        "(x_train_mnist, y_train_mnist),(x_test_mnist, y_test_mnist) = mnist.load_data()\n",
        "\n",
        "# 顏色範圍：0~255，所以，公式簡化為 x / 255\n",
        "x_train_norm, x_test_norm = x_train_mnist / 255.0, x_test_mnist / 255.0"
      ],
      "execution_count": null,
      "outputs": [
        {
          "output_type": "stream",
          "text": [
            "Downloading data from https://storage.googleapis.com/tensorflow/tf-keras-datasets/mnist.npz\n",
            "11493376/11490434 [==============================] - 0s 0us/step\n",
            "11501568/11490434 [==============================] - 0s 0us/step\n"
          ],
          "name": "stdout"
        }
      ]
    },
    {
      "cell_type": "markdown",
      "metadata": {
        "id": "deCge-IK1Nvh"
      },
      "source": [
        "## Step02：CNN 模型"
      ]
    },
    {
      "cell_type": "code",
      "metadata": {
        "id": "izo9qjdy1FRm"
      },
      "source": [
        "# 建立模型\n",
        "from tensorflow.keras import layers\n",
        "import numpy as np\n",
        "\n",
        "input_image_shape=(26, 26, 1)\n",
        "# 新增一維在最後面\n",
        "x_train_norm = np.expand_dims(x_train_norm, -1)\n",
        "x_test_norm = np.expand_dims(x_test_norm, -1)\n",
        "\n",
        "# CNN 模型\n",
        "model = tf.keras.Sequential(\n",
        "    [\n",
        "        tf.keras.Input(shape=input_image_shape),\n",
        "        layers.Conv2D(32, kernel_size=(4, 4), activation=\"relu\"),\n",
        "        layers.MaxPooling2D(pool_size=(2, 2)),\n",
        "        layers.Conv2D(64, kernel_size=(4, 4), activation=\"relu\"),\n",
        "        layers.MaxPooling2D(pool_size=(2, 2)),\n",
        "        layers.Flatten(),\n",
        "        layers.Dropout(0.5),\n",
        "        layers.Dense(10, activation=\"softmax\"),\n",
        "    ]\n",
        ")"
      ],
      "execution_count": null,
      "outputs": []
    },
    {
      "cell_type": "code",
      "metadata": {
        "colab": {
          "base_uri": "https://localhost:8080/"
        },
        "id": "YS48Ydqs16U4",
        "outputId": "c2afea48-b804-481f-ab34-329c8a4cde80"
      },
      "source": [
        "# 設定優化器(optimizer)、損失函數(loss)、效能衡量指標(metrics)的類別\n",
        "model.compile(optimizer='adam',\n",
        "              loss='sparse_categorical_crossentropy',\n",
        "              metrics=['accuracy'])\n",
        "\n",
        "# 模型訓練\n",
        "history01 = model.fit(x_train_norm, y_train_mnist, epochs=5, validation_split=0.2)\n",
        "\n",
        "# 評分(Score Model)\n",
        "score01 = model.evaluate(x_test_norm, y_test_mnist, verbose=0)\n",
        "\n",
        "for i, x in enumerate(score01):\n",
        "    print(f'{model.metrics_names[i]}: {score01[i]:.4f}')"
      ],
      "execution_count": null,
      "outputs": [
        {
          "output_type": "stream",
          "text": [
            "Epoch 1/5\n",
            "WARNING:tensorflow:Model was constructed with shape (None, 26, 26, 1) for input KerasTensor(type_spec=TensorSpec(shape=(None, 26, 26, 1), dtype=tf.float32, name='input_1'), name='input_1', description=\"created by layer 'input_1'\"), but it was called on an input with incompatible shape (32, 28, 28, 1).\n",
            "WARNING:tensorflow:Model was constructed with shape (None, 26, 26, 1) for input KerasTensor(type_spec=TensorSpec(shape=(None, 26, 26, 1), dtype=tf.float32, name='input_1'), name='input_1', description=\"created by layer 'input_1'\"), but it was called on an input with incompatible shape (32, 28, 28, 1).\n",
            "1499/1500 [============================>.] - ETA: 0s - loss: 0.2261 - accuracy: 0.9311WARNING:tensorflow:Model was constructed with shape (None, 26, 26, 1) for input KerasTensor(type_spec=TensorSpec(shape=(None, 26, 26, 1), dtype=tf.float32, name='input_1'), name='input_1', description=\"created by layer 'input_1'\"), but it was called on an input with incompatible shape (32, 28, 28, 1).\n",
            "1500/1500 [==============================] - 40s 26ms/step - loss: 0.2260 - accuracy: 0.9312 - val_loss: 0.0737 - val_accuracy: 0.9779\n",
            "Epoch 2/5\n",
            "1500/1500 [==============================] - 38s 25ms/step - loss: 0.0803 - accuracy: 0.9749 - val_loss: 0.0474 - val_accuracy: 0.9864\n",
            "Epoch 3/5\n",
            "1500/1500 [==============================] - 39s 26ms/step - loss: 0.0627 - accuracy: 0.9805 - val_loss: 0.0420 - val_accuracy: 0.9880\n",
            "Epoch 4/5\n",
            "1500/1500 [==============================] - 39s 26ms/step - loss: 0.0518 - accuracy: 0.9834 - val_loss: 0.0364 - val_accuracy: 0.9899\n",
            "Epoch 5/5\n",
            "1500/1500 [==============================] - 39s 26ms/step - loss: 0.0473 - accuracy: 0.9847 - val_loss: 0.0345 - val_accuracy: 0.9899\n",
            "WARNING:tensorflow:Model was constructed with shape (None, 26, 26, 1) for input KerasTensor(type_spec=TensorSpec(shape=(None, 26, 26, 1), dtype=tf.float32, name='input_1'), name='input_1', description=\"created by layer 'input_1'\"), but it was called on an input with incompatible shape (None, 28, 28, 1).\n",
            "loss: 0.0262\n",
            "accuracy: 0.9907\n"
          ],
          "name": "stdout"
        }
      ]
    },
    {
      "cell_type": "code",
      "metadata": {
        "colab": {
          "base_uri": "https://localhost:8080/"
        },
        "id": "Gzu92fTKPTRU",
        "outputId": "19cad1ef-f5d2-4302-ad66-cb3818aac681"
      },
      "source": [
        "model.summary()"
      ],
      "execution_count": null,
      "outputs": [
        {
          "output_type": "stream",
          "text": [
            "Model: \"sequential\"\n",
            "_________________________________________________________________\n",
            "Layer (type)                 Output Shape              Param #   \n",
            "=================================================================\n",
            "conv2d (Conv2D)              (None, 23, 23, 32)        544       \n",
            "_________________________________________________________________\n",
            "max_pooling2d (MaxPooling2D) (None, 11, 11, 32)        0         \n",
            "_________________________________________________________________\n",
            "conv2d_1 (Conv2D)            (None, 8, 8, 64)          32832     \n",
            "_________________________________________________________________\n",
            "max_pooling2d_1 (MaxPooling2 (None, 4, 4, 64)          0         \n",
            "_________________________________________________________________\n",
            "flatten (Flatten)            (None, 1024)              0         \n",
            "_________________________________________________________________\n",
            "dropout (Dropout)            (None, 1024)              0         \n",
            "_________________________________________________________________\n",
            "dense (Dense)                (None, 10)                10250     \n",
            "=================================================================\n",
            "Total params: 43,626\n",
            "Trainable params: 43,626\n",
            "Non-trainable params: 0\n",
            "_________________________________________________________________\n"
          ],
          "name": "stdout"
        }
      ]
    },
    {
      "cell_type": "markdown",
      "metadata": {
        "id": "gRN1UUhVPyDu"
      },
      "source": [
        "# **EX03. cifar10 辨識**"
      ]
    },
    {
      "cell_type": "markdown",
      "metadata": {
        "id": "N31lqoA8QCUA"
      },
      "source": [
        "## Step01：載入 cifar10 資料"
      ]
    },
    {
      "cell_type": "code",
      "metadata": {
        "colab": {
          "base_uri": "https://localhost:8080/"
        },
        "id": "WgJrQNHTPvqv",
        "outputId": "9de38a45-3b0c-4756-babc-236e356b3107"
      },
      "source": [
        "import tensorflow as tf\n",
        "cifar10 = tf.keras.datasets.cifar10\n",
        "\n",
        "# 載入 cifar10 資料\n",
        "(x_train_cifar10, y_train_cifar10),(x_test_cifar10, y_test_cifar10) = cifar10.load_data()\n",
        "\n",
        "# 訓練/測試資料的 X/Y 維度\n",
        "print(x_train_cifar10.shape, y_train_cifar10.shape,x_test_cifar10.shape, y_test_cifar10.shape)"
      ],
      "execution_count": null,
      "outputs": [
        {
          "output_type": "stream",
          "text": [
            "Downloading data from https://www.cs.toronto.edu/~kriz/cifar-10-python.tar.gz\n",
            "170500096/170498071 [==============================] - 4s 0us/step\n",
            "170508288/170498071 [==============================] - 4s 0us/step\n",
            "(50000, 32, 32, 3) (50000, 1) (10000, 32, 32, 3) (10000, 1)\n"
          ],
          "name": "stdout"
        }
      ]
    },
    {
      "cell_type": "markdown",
      "metadata": {
        "id": "xE_nqELNRXRd"
      },
      "source": [
        "## Step02：特徵工程，將特徵縮放成 (0, 1) 之間"
      ]
    },
    {
      "cell_type": "code",
      "metadata": {
        "id": "dMTpz--3RBC5"
      },
      "source": [
        "# 特徵縮放，使用常態化(Normalization)\n",
        "x_train_norm, x_test_norm = x_train_cifar10 / 255, x_test_cifar10 / 255"
      ],
      "execution_count": null,
      "outputs": []
    },
    {
      "cell_type": "code",
      "metadata": {
        "colab": {
          "base_uri": "https://localhost:8080/"
        },
        "id": "qZKNoDImRwcr",
        "outputId": "2f1c93c0-db09-41af-d66c-419ee9ea6c1a"
      },
      "source": [
        "# 確認轉換成功\n",
        "x_train_norm[0]"
      ],
      "execution_count": null,
      "outputs": [
        {
          "output_type": "execute_result",
          "data": {
            "text/plain": [
              "array([[[0.23137255, 0.24313725, 0.24705882],\n",
              "        [0.16862745, 0.18039216, 0.17647059],\n",
              "        [0.19607843, 0.18823529, 0.16862745],\n",
              "        ...,\n",
              "        [0.61960784, 0.51764706, 0.42352941],\n",
              "        [0.59607843, 0.49019608, 0.4       ],\n",
              "        [0.58039216, 0.48627451, 0.40392157]],\n",
              "\n",
              "       [[0.0627451 , 0.07843137, 0.07843137],\n",
              "        [0.        , 0.        , 0.        ],\n",
              "        [0.07058824, 0.03137255, 0.        ],\n",
              "        ...,\n",
              "        [0.48235294, 0.34509804, 0.21568627],\n",
              "        [0.46666667, 0.3254902 , 0.19607843],\n",
              "        [0.47843137, 0.34117647, 0.22352941]],\n",
              "\n",
              "       [[0.09803922, 0.09411765, 0.08235294],\n",
              "        [0.0627451 , 0.02745098, 0.        ],\n",
              "        [0.19215686, 0.10588235, 0.03137255],\n",
              "        ...,\n",
              "        [0.4627451 , 0.32941176, 0.19607843],\n",
              "        [0.47058824, 0.32941176, 0.19607843],\n",
              "        [0.42745098, 0.28627451, 0.16470588]],\n",
              "\n",
              "       ...,\n",
              "\n",
              "       [[0.81568627, 0.66666667, 0.37647059],\n",
              "        [0.78823529, 0.6       , 0.13333333],\n",
              "        [0.77647059, 0.63137255, 0.10196078],\n",
              "        ...,\n",
              "        [0.62745098, 0.52156863, 0.2745098 ],\n",
              "        [0.21960784, 0.12156863, 0.02745098],\n",
              "        [0.20784314, 0.13333333, 0.07843137]],\n",
              "\n",
              "       [[0.70588235, 0.54509804, 0.37647059],\n",
              "        [0.67843137, 0.48235294, 0.16470588],\n",
              "        [0.72941176, 0.56470588, 0.11764706],\n",
              "        ...,\n",
              "        [0.72156863, 0.58039216, 0.36862745],\n",
              "        [0.38039216, 0.24313725, 0.13333333],\n",
              "        [0.3254902 , 0.20784314, 0.13333333]],\n",
              "\n",
              "       [[0.69411765, 0.56470588, 0.45490196],\n",
              "        [0.65882353, 0.50588235, 0.36862745],\n",
              "        [0.70196078, 0.55686275, 0.34117647],\n",
              "        ...,\n",
              "        [0.84705882, 0.72156863, 0.54901961],\n",
              "        [0.59215686, 0.4627451 , 0.32941176],\n",
              "        [0.48235294, 0.36078431, 0.28235294]]])"
            ]
          },
          "metadata": {},
          "execution_count": 9
        }
      ]
    },
    {
      "cell_type": "code",
      "metadata": {
        "colab": {
          "base_uri": "https://localhost:8080/"
        },
        "id": "SMvDXUxnR9s5",
        "outputId": "71917afd-da39-4b47-c15e-5495c1d646d4"
      },
      "source": [
        "x_test_norm[0]"
      ],
      "execution_count": null,
      "outputs": [
        {
          "output_type": "execute_result",
          "data": {
            "text/plain": [
              "array([[[0.61960784, 0.43921569, 0.19215686],\n",
              "        [0.62352941, 0.43529412, 0.18431373],\n",
              "        [0.64705882, 0.45490196, 0.2       ],\n",
              "        ...,\n",
              "        [0.5372549 , 0.37254902, 0.14117647],\n",
              "        [0.49411765, 0.35686275, 0.14117647],\n",
              "        [0.45490196, 0.33333333, 0.12941176]],\n",
              "\n",
              "       [[0.59607843, 0.43921569, 0.2       ],\n",
              "        [0.59215686, 0.43137255, 0.15686275],\n",
              "        [0.62352941, 0.44705882, 0.17647059],\n",
              "        ...,\n",
              "        [0.53333333, 0.37254902, 0.12156863],\n",
              "        [0.49019608, 0.35686275, 0.1254902 ],\n",
              "        [0.46666667, 0.34509804, 0.13333333]],\n",
              "\n",
              "       [[0.59215686, 0.43137255, 0.18431373],\n",
              "        [0.59215686, 0.42745098, 0.12941176],\n",
              "        [0.61960784, 0.43529412, 0.14117647],\n",
              "        ...,\n",
              "        [0.54509804, 0.38431373, 0.13333333],\n",
              "        [0.50980392, 0.37254902, 0.13333333],\n",
              "        [0.47058824, 0.34901961, 0.12941176]],\n",
              "\n",
              "       ...,\n",
              "\n",
              "       [[0.26666667, 0.48627451, 0.69411765],\n",
              "        [0.16470588, 0.39215686, 0.58039216],\n",
              "        [0.12156863, 0.34509804, 0.5372549 ],\n",
              "        ...,\n",
              "        [0.14901961, 0.38039216, 0.57254902],\n",
              "        [0.05098039, 0.25098039, 0.42352941],\n",
              "        [0.15686275, 0.33333333, 0.49803922]],\n",
              "\n",
              "       [[0.23921569, 0.45490196, 0.65882353],\n",
              "        [0.19215686, 0.4       , 0.58039216],\n",
              "        [0.1372549 , 0.33333333, 0.51764706],\n",
              "        ...,\n",
              "        [0.10196078, 0.32156863, 0.50980392],\n",
              "        [0.11372549, 0.32156863, 0.49411765],\n",
              "        [0.07843137, 0.25098039, 0.41960784]],\n",
              "\n",
              "       [[0.21176471, 0.41960784, 0.62745098],\n",
              "        [0.21960784, 0.41176471, 0.58431373],\n",
              "        [0.17647059, 0.34901961, 0.51764706],\n",
              "        ...,\n",
              "        [0.09411765, 0.30196078, 0.48627451],\n",
              "        [0.13333333, 0.32941176, 0.50588235],\n",
              "        [0.08235294, 0.2627451 , 0.43137255]]])"
            ]
          },
          "metadata": {},
          "execution_count": 10
        }
      ]
    },
    {
      "cell_type": "markdown",
      "metadata": {
        "id": "LGbNzz4-SiE2"
      },
      "source": [
        "## Step03：建立模型結構"
      ]
    },
    {
      "cell_type": "code",
      "metadata": {
        "id": "ICsEQbhOSU8m"
      },
      "source": [
        "model = tf.keras.models.Sequential([\n",
        "    tf.keras.layers.Conv2D(32, (3, 3), activation='relu', input_shape=(32, 32, 3)),\n",
        "    tf.keras.layers.MaxPooling2D((2, 2)),\n",
        "    tf.keras.layers.Conv2D(64, (3, 3), activation='relu'),\n",
        "    tf.keras.layers.MaxPooling2D((2, 2)),\n",
        "    tf.keras.layers.Conv2D(64, (3, 3), activation='relu'),    \n",
        "    tf.keras.layers.Flatten(),    \n",
        "    tf.keras.layers.Dense(64, activation='relu'),    \n",
        "    tf.keras.layers.Dense(10)    \n",
        "])"
      ],
      "execution_count": null,
      "outputs": []
    },
    {
      "cell_type": "markdown",
      "metadata": {
        "id": "TjQ1RevfTH5S"
      },
      "source": [
        "## Step04：結合訓練資料及模型，進行模型訓練\n"
      ]
    },
    {
      "cell_type": "code",
      "metadata": {
        "colab": {
          "base_uri": "https://localhost:8080/"
        },
        "id": "3kctWzNRTEkG",
        "outputId": "81d0777c-befc-49ba-ed4f-79372bc1ef35"
      },
      "source": [
        "# 設定優化器(optimizer)、損失函數(loss)、效能衡量指標(metrics)的類別\n",
        "model.compile(optimizer='adam',\n",
        "              loss=tf.keras.losses.SparseCategoricalCrossentropy(from_logits=True),\n",
        "              metrics=['accuracy'])\n",
        "\n",
        "# 模型訓練\n",
        "history = model.fit(x_train_norm, y_train_cifar10, epochs=10, validation_split=0.2)"
      ],
      "execution_count": null,
      "outputs": [
        {
          "output_type": "stream",
          "text": [
            "Epoch 1/10\n",
            "1250/1250 [==============================] - 49s 39ms/step - loss: 1.5553 - accuracy: 0.4278 - val_loss: 1.3072 - val_accuracy: 0.5347\n",
            "Epoch 2/10\n",
            "1250/1250 [==============================] - 48s 38ms/step - loss: 1.2032 - accuracy: 0.5712 - val_loss: 1.1287 - val_accuracy: 0.6012\n",
            "Epoch 3/10\n",
            "1250/1250 [==============================] - 48s 39ms/step - loss: 1.0456 - accuracy: 0.6313 - val_loss: 1.0204 - val_accuracy: 0.6425\n",
            "Epoch 4/10\n",
            "1250/1250 [==============================] - 49s 39ms/step - loss: 0.9408 - accuracy: 0.6710 - val_loss: 0.9589 - val_accuracy: 0.6653\n",
            "Epoch 5/10\n",
            "1250/1250 [==============================] - 49s 39ms/step - loss: 0.8549 - accuracy: 0.6977 - val_loss: 0.9202 - val_accuracy: 0.6836\n",
            "Epoch 6/10\n",
            "1250/1250 [==============================] - 50s 40ms/step - loss: 0.7896 - accuracy: 0.7220 - val_loss: 0.9123 - val_accuracy: 0.6874\n",
            "Epoch 7/10\n",
            "1250/1250 [==============================] - 50s 40ms/step - loss: 0.7341 - accuracy: 0.7425 - val_loss: 0.9074 - val_accuracy: 0.6895\n",
            "Epoch 8/10\n",
            "1250/1250 [==============================] - 49s 40ms/step - loss: 0.6850 - accuracy: 0.7596 - val_loss: 0.8760 - val_accuracy: 0.7040\n",
            "Epoch 9/10\n",
            "1250/1250 [==============================] - 49s 39ms/step - loss: 0.6397 - accuracy: 0.7750 - val_loss: 0.9070 - val_accuracy: 0.6995\n",
            "Epoch 10/10\n",
            "1250/1250 [==============================] - 49s 39ms/step - loss: 0.5956 - accuracy: 0.7904 - val_loss: 0.9113 - val_accuracy: 0.6958\n"
          ],
          "name": "stdout"
        }
      ]
    },
    {
      "cell_type": "markdown",
      "metadata": {
        "id": "v31N4rcRWBtZ"
      },
      "source": [
        "## Step05：模型評分"
      ]
    },
    {
      "cell_type": "code",
      "metadata": {
        "colab": {
          "base_uri": "https://localhost:8080/"
        },
        "id": "_iwfxBshT_cr",
        "outputId": "253d70d1-00dd-4f85-f5e3-0961c5d0af65"
      },
      "source": [
        "score01=model.evaluate(x_test_norm, y_test_cifar10, verbose=0)\n",
        "\n",
        "for i, x in enumerate(score01):\n",
        "    print(f'{model.metrics_names[i]}: {score01[i]:.4f}')"
      ],
      "execution_count": null,
      "outputs": [
        {
          "output_type": "stream",
          "text": [
            "loss: 0.9292\n",
            "accuracy: 0.6949\n"
          ],
          "name": "stdout"
        }
      ]
    },
    {
      "cell_type": "code",
      "metadata": {
        "colab": {
          "base_uri": "https://localhost:8080/",
          "height": 300
        },
        "id": "fyiOoeN6byWY",
        "outputId": "2af9d350-1d73-4bba-b54d-c74496543a54"
      },
      "source": [
        "import matplotlib.pyplot as plt\n",
        "\n",
        "plt.plot(history.history['accuracy'], label='accuracy')\n",
        "plt.plot(history.history['val_accuracy'], label = 'val_accuracy')\n",
        "plt.xlabel('Epoch')\n",
        "plt.ylabel('Accuracy')\n",
        "plt.ylim([0.5, 1])\n",
        "plt.legend(loc='lower right')"
      ],
      "execution_count": null,
      "outputs": [
        {
          "output_type": "execute_result",
          "data": {
            "text/plain": [
              "<matplotlib.legend.Legend at 0x7f32e2914bd0>"
            ]
          },
          "metadata": {},
          "execution_count": 14
        },
        {
          "output_type": "display_data",
          "data": {
            "image/png": "[encoded data removed]",
            "text/plain": [
              "<Figure size 432x288 with 1 Axes>"
            ]
          },
          "metadata": {
            "needs_background": "light"
          }
        }
      ]
    },
    {
      "cell_type": "code",
      "metadata": {
        "colab": {
          "base_uri": "https://localhost:8080/"
        },
        "id": "lWcRMCB7WbCh",
        "outputId": "800c6a8e-0211-4091-c132-78141d18e7cc"
      },
      "source": [
        "model.summary()"
      ],
      "execution_count": null,
      "outputs": [
        {
          "output_type": "stream",
          "text": [
            "Model: \"sequential_1\"\n",
            "_________________________________________________________________\n",
            "Layer (type)                 Output Shape              Param #   \n",
            "=================================================================\n",
            "conv2d_2 (Conv2D)            (None, 30, 30, 32)        896       \n",
            "_________________________________________________________________\n",
            "max_pooling2d_2 (MaxPooling2 (None, 15, 15, 32)        0         \n",
            "_________________________________________________________________\n",
            "conv2d_3 (Conv2D)            (None, 13, 13, 64)        18496     \n",
            "_________________________________________________________________\n",
            "max_pooling2d_3 (MaxPooling2 (None, 6, 6, 64)          0         \n",
            "_________________________________________________________________\n",
            "conv2d_4 (Conv2D)            (None, 4, 4, 64)          36928     \n",
            "_________________________________________________________________\n",
            "flatten_1 (Flatten)          (None, 1024)              0         \n",
            "_________________________________________________________________\n",
            "dense_1 (Dense)              (None, 64)                65600     \n",
            "_________________________________________________________________\n",
            "dense_2 (Dense)              (None, 10)                650       \n",
            "=================================================================\n",
            "Total params: 122,570\n",
            "Trainable params: 122,570\n",
            "Non-trainable params: 0\n",
            "_________________________________________________________________\n"
          ],
          "name": "stdout"
        }
      ]
    },
    {
      "cell_type": "markdown",
      "metadata": {
        "id": "m625tQiBdtKo"
      },
      "source": [
        "# **EX04. MNIST 模型強化_資料增補**"
      ]
    },
    {
      "cell_type": "code",
      "metadata": {
        "id": "MgnjRXCDWkkL"
      },
      "source": [
        "import tensorflow as tf\n",
        "mnist = tf.keras.datasets.mnist\n",
        "\n",
        "# 載入 MNIST 手寫阿拉伯數字資料\n",
        "(x_train_mnist, y_train_mnist),(x_test_mnist, y_test_mnist) = mnist.load_data()"
      ],
      "execution_count": null,
      "outputs": []
    },
    {
      "cell_type": "code",
      "metadata": {
        "id": "Scw_H8IzeD4c"
      },
      "source": [
        "# 建立模型\n",
        "from tensorflow.keras import layers\n",
        "import numpy as np\n",
        "\n",
        "input_image_shape=(27, 27, 1)\n",
        "# 新增一維在最後面\n",
        "x_train_mnist = np.expand_dims(x_train_mnist, -1)\n",
        "x_test_mnist = np.expand_dims(x_test_mnist, -1)\n",
        "\n",
        "# CNN 模型\n",
        "model = tf.keras.Sequential(\n",
        "    [\n",
        "        tf.keras.Input(shape=input_image_shape),\n",
        "        layers.Conv2D(32, kernel_size=(4, 4), activation=\"relu\"),\n",
        "        layers.MaxPooling2D(pool_size=(2, 2)),\n",
        "        layers.Conv2D(64, kernel_size=(4, 4), activation=\"relu\"),\n",
        "        layers.MaxPooling2D(pool_size=(2, 2)),\n",
        "        layers.Flatten(),\n",
        "        layers.Dropout(0.5),\n",
        "        layers.Dense(10, activation=\"softmax\"),\n",
        "    ]\n",
        ")\n",
        "\n",
        "# 設定優化器(optimizer)、損失函數(loss)、效能衡量指標(metrics)的類別\n",
        "model.compile(optimizer='adam',\n",
        "              loss='sparse_categorical_crossentropy',\n",
        "              metrics=['accuracy'])"
      ],
      "execution_count": null,
      "outputs": []
    },
    {
      "cell_type": "markdown",
      "metadata": {
        "id": "Mq82vqZHeQfI"
      },
      "source": [
        "## 資料增補"
      ]
    },
    {
      "cell_type": "code",
      "metadata": {
        "colab": {
          "base_uri": "https://localhost:8080/"
        },
        "id": "MFn-KgKpeOdQ",
        "outputId": "fac11c89-8da9-4191-c67f-8decd70e253d"
      },
      "source": [
        "# 參數設定\n",
        "batch_size = 1000\n",
        "epochs = 5\n",
        "\n",
        "# 資料增補定義\n",
        "datagen = tf.keras.preprocessing.image.ImageDataGenerator(\n",
        "        rescale=1./255, # 特徵縮放\n",
        "        rotation_range=15,  # 旋轉 15 度\n",
        "        zoom_range=0.15, # 拉遠/拉近 20%\n",
        "        width_shift_range=0.15,  # 寬度偏移  0.15%\n",
        "        height_shift_range=0.15) # 高度偏移  0.15%\n",
        "\n",
        "# 增補資料，進行模型訓練\n",
        "datagen.fit(x_train_mnist)\n",
        "history = model.fit(datagen.flow(x_train_mnist, y_train_mnist, batch_size=batch_size), epochs=epochs,\n",
        "          validation_data=datagen.flow(x_test_mnist, y_test_mnist, batch_size=batch_size), verbose=2,\n",
        "          steps_per_epoch=x_train_mnist.shape[0]//batch_size)"
      ],
      "execution_count": null,
      "outputs": [
        {
          "output_type": "stream",
          "text": [
            "Epoch 1/5\n",
            "60/60 - 54s - loss: 1.6663 - accuracy: 0.4354 - val_loss: 0.9017 - val_accuracy: 0.7290\n",
            "Epoch 2/5\n",
            "60/60 - 53s - loss: 0.8191 - accuracy: 0.7365 - val_loss: 0.5079 - val_accuracy: 0.8549\n",
            "Epoch 3/5\n",
            "60/60 - 53s - loss: 0.5790 - accuracy: 0.8200 - val_loss: 0.3780 - val_accuracy: 0.8900\n",
            "Epoch 4/5\n",
            "60/60 - 53s - loss: 0.4701 - accuracy: 0.8566 - val_loss: 0.2980 - val_accuracy: 0.9160\n",
            "Epoch 5/5\n",
            "60/60 - 52s - loss: 0.3985 - accuracy: 0.8777 - val_loss: 0.2589 - val_accuracy: 0.9261\n"
          ],
          "name": "stdout"
        }
      ]
    },
    {
      "cell_type": "code",
      "metadata": {
        "colab": {
          "base_uri": "https://localhost:8080/"
        },
        "id": "hSUn1GLqe0pb",
        "outputId": "937e792d-a9fb-4829-ee7a-289f21f679d0"
      },
      "source": [
        "# 評分(Score Model)\n",
        "score01=model.evaluate(x_test_mnist, y_test_mnist, verbose=0)\n",
        "\n",
        "for i, x in enumerate(score01):\n",
        "    print(f'{model.metrics_names[i]}: {score01[i]:.4f}')"
      ],
      "execution_count": null,
      "outputs": [
        {
          "output_type": "stream",
          "text": [
            "WARNING:tensorflow:Model was constructed with shape (None, 27, 27, 1) for input KerasTensor(type_spec=TensorSpec(shape=(None, 27, 27, 1), dtype=tf.float32, name='input_2'), name='input_2', description=\"created by layer 'input_2'\"), but it was called on an input with incompatible shape (None, 28, 28, 1).\n",
            "loss: 10.6118\n",
            "accuracy: 0.9716\n"
          ],
          "name": "stdout"
        }
      ]
    },
    {
      "cell_type": "code",
      "metadata": {
        "id": "mmUyVOdOhTnp"
      },
      "source": [
        ""
      ],
      "execution_count": null,
      "outputs": []
    }
  ]
}