{
  "nbformat": 4,
  "nbformat_minor": 0,
  "metadata": {
    "colab": {
      "name": "02_Loss Function.ipynb",
      "provenance": [],
      "collapsed_sections": []
    },
    "kernelspec": {
      "name": "python3",
      "display_name": "Python 3"
    },
    "language_info": {
      "name": "python"
    },
    "accelerator": "GPU"
  },
  "cells": [
    {
      "cell_type": "markdown",
      "metadata": {
        "id": "ZuacECOzG5qi"
      },
      "source": [
        "# **損失函數**"
      ]
    },
    {
      "cell_type": "code",
      "metadata": {
        "id": "RzlScImSGwhJ"
      },
      "source": [
        "import numpy as np\n",
        "import tensorflow as tf\n",
        "import matplotlib.pyplot as plt\n",
        "from tensorflow.keras import losses"
      ],
      "execution_count": null,
      "outputs": []
    },
    {
      "cell_type": "markdown",
      "metadata": {
        "id": "8stdREtmHLKj"
      },
      "source": [
        "## EX01. 二分類交叉熵"
      ]
    },
    {
      "cell_type": "code",
      "metadata": {
        "colab": {
          "base_uri": "https://localhost:8080/"
        },
        "id": "VEQOEdNRHEzU",
        "outputId": "889c8e4c-a9ab-493d-aa2b-6cc5de036a73"
      },
      "source": [
        "# 兩筆資料，分別為實際值及預測值\n",
        "bc_y_true = [[1., 2.], [3., 3.]] # 實際值\n",
        "bc_y_pred = [[0.7, 0.3], [0.7, 0.3]] # 預測值\n",
        "\n",
        "# 二分類交叉熵(BinaryCrossentropy)\n",
        "bce = tf.keras.losses.BinaryCrossentropy()\n",
        "bce(bc_y_true, bc_y_pred).numpy()"
      ],
      "execution_count": null,
      "outputs": [
        {
          "output_type": "execute_result",
          "data": {
            "text/plain": [
              "0.99214804"
            ]
          },
          "metadata": {},
          "execution_count": 2
        }
      ]
    },
    {
      "cell_type": "code",
      "metadata": {
        "colab": {
          "base_uri": "https://localhost:8080/"
        },
        "id": "PorinhJKHwLI",
        "outputId": "49b400b7-6895-4ea3-c3dc-9bbf3e60a491"
      },
      "source": [
        "# 驗算\n",
        "import math\n",
        "\n",
        "((0-math.log(1-0.7) - math.log(0.3)) + (0-math.log(1-0.7) - math.log(0.7)) )/4"
      ],
      "execution_count": null,
      "outputs": [
        {
          "output_type": "execute_result",
          "data": {
            "text/plain": [
              "0.992148339229135"
            ]
          },
          "metadata": {},
          "execution_count": 3
        }
      ]
    },
    {
      "cell_type": "code",
      "metadata": {
        "colab": {
          "base_uri": "https://localhost:8080/"
        },
        "id": "hYo1b4P9H7OL",
        "outputId": "28f1a0d5-f18e-4ffe-a544-eb9909f54b7f"
      },
      "source": [
        "import math\n",
        "\n",
        "def sigmoid(x):\n",
        "    return 1 / (1 + np.e ** (-x))\n",
        "\n",
        "def BCE(output, target):\n",
        "    n = len(output)\n",
        "    total_value = 0\n",
        "    \n",
        "    output = list(map(sigmoid, output))\n",
        "    print(output)\n",
        "\n",
        "    for i in range(n):\n",
        "        total_value += (target[i]*math.log(output[i])+(1-target[i])*math.log(1-output[i]))\n",
        "   \n",
        "    total_value *= -1/n\n",
        "    return total_value\n",
        "\n",
        "bc_y_pred = [-3, -4, -5, 3, 4, 5]\n",
        "bc_y_true = [0, 1, 0, 0, 1, 0]\n",
        "BCE(bc_y_pred, bc_y_true)\n"
      ],
      "execution_count": null,
      "outputs": [
        {
          "output_type": "stream",
          "text": [
            "[0.04742587317756679, 0.017986209962091562, 0.006692850924284857, 0.9525741268224331, 0.9820137900379085, 0.9933071490757153]\n"
          ],
          "name": "stdout"
        },
        {
          "output_type": "execute_result",
          "data": {
            "text/plain": [
              "2.024484209326893"
            ]
          },
          "metadata": {},
          "execution_count": 6
        }
      ]
    },
    {
      "cell_type": "markdown",
      "metadata": {
        "id": "DXvyM2rRIcBg"
      },
      "source": [
        "## EX02. 多分類交叉熵"
      ]
    },
    {
      "cell_type": "code",
      "metadata": {
        "colab": {
          "base_uri": "https://localhost:8080/"
        },
        "id": "hs5VhXMVIIGK",
        "outputId": "2bc9014d-6724-451f-f7da-ac02554b513b"
      },
      "source": [
        "# 兩筆資料，分別為實際值及預測值\n",
        "cc_y_true = [[1, 0, 1], [0, 1, 1]]  # 實際值\n",
        "cc_y_pred = [[0.06, 0.96, 0], [0.2, 0.7, 0.2]]  # 預測值\n",
        "\n",
        "# 多分類交叉熵(CategoricalCrossentropy)\n",
        "cce = tf.keras.losses.CategoricalCrossentropy()\n",
        "cce(cc_y_true, cc_y_pred).numpy()"
      ],
      "execution_count": null,
      "outputs": [
        {
          "output_type": "execute_result",
          "data": {
            "text/plain": [
              "10.554021"
            ]
          },
          "metadata": {},
          "execution_count": 7
        }
      ]
    },
    {
      "cell_type": "markdown",
      "metadata": {
        "id": "SFcdH-XGJBwz"
      },
      "source": [
        "## EX03. 稀疏矩陣的多分類交叉熵"
      ]
    },
    {
      "cell_type": "code",
      "metadata": {
        "colab": {
          "base_uri": "https://localhost:8080/"
        },
        "id": "WloLXoRyI80l",
        "outputId": "c303771f-fc00-4d90-a425-b3c65fa94c49"
      },
      "source": [
        "# 兩筆資料，分別為實際值及預測值\n",
        "scc_y_true = [1, 2] # 實際值\n",
        "scc_y_pred = [[0.06, 0.96, 0], [0.2, 0.7, 0.2]] # 預測值\n",
        "\n",
        "# 多分類交叉熵(CategoricalCrossentropy)\n",
        "cce = tf.keras.losses.SparseCategoricalCrossentropy()\n",
        "cce(scc_y_true, scc_y_pred).numpy()"
      ],
      "execution_count": null,
      "outputs": [
        {
          "output_type": "execute_result",
          "data": {
            "text/plain": [
              "0.88268644"
            ]
          },
          "metadata": {},
          "execution_count": 9
        }
      ]
    },
    {
      "cell_type": "markdown",
      "metadata": {
        "id": "5vuhAy3eL6L_"
      },
      "source": [
        "## EX04. MeanSquaredError：計算實際及預測值的均方誤差"
      ]
    },
    {
      "cell_type": "code",
      "metadata": {
        "colab": {
          "base_uri": "https://localhost:8080/"
        },
        "id": "hFN22eYULyjk",
        "outputId": "6ec78886-145a-4f24-8184-7c7a7bc6b2fb"
      },
      "source": [
        "# 兩筆資料，分別為實際值及預測值\n",
        "mse_y_true = [[1., 0.], [1., 1.]] # 實際值\n",
        "mse_y_pred = [[0., 0.], [0., 1.]] # 預測值\n",
        "\n",
        "# 多分類交叉熵(CategoricalCrossentropy)\n",
        "mse = tf.keras.losses.MeanSquaredError()\n",
        "mse(mse_y_true, mse_y_pred).numpy()"
      ],
      "execution_count": null,
      "outputs": [
        {
          "output_type": "execute_result",
          "data": {
            "text/plain": [
              "0.5"
            ]
          },
          "metadata": {},
          "execution_count": 10
        }
      ]
    },
    {
      "cell_type": "code",
      "metadata": {
        "colab": {
          "base_uri": "https://localhost:8080/"
        },
        "id": "rw1VBk3WMUr4",
        "outputId": "da17c349-db04-4101-b181-7bb8e1a775ff"
      },
      "source": [
        "# 樣本類別的權重比例\n",
        "mse(mse_y_true, mse_y_pred, sample_weight=[0.8, 0.2]).numpy()"
      ],
      "execution_count": null,
      "outputs": [
        {
          "output_type": "execute_result",
          "data": {
            "text/plain": [
              "0.25"
            ]
          },
          "metadata": {},
          "execution_count": 11
        }
      ]
    },
    {
      "cell_type": "code",
      "metadata": {
        "colab": {
          "base_uri": "https://localhost:8080/"
        },
        "id": "53M9WRqZMgky",
        "outputId": "74619b35-246f-441c-b911-4a9709423631"
      },
      "source": [
        "# 取總和，即 SSE，而非 MSE\n",
        "mse = tf.keras.losses.MeanSquaredError(reduction=tf.keras.losses.Reduction.SUM)\n",
        "mse(mse_y_true, mse_y_pred).numpy()"
      ],
      "execution_count": null,
      "outputs": [
        {
          "output_type": "execute_result",
          "data": {
            "text/plain": [
              "1.0"
            ]
          },
          "metadata": {},
          "execution_count": 12
        }
      ]
    },
    {
      "cell_type": "markdown",
      "metadata": {
        "id": "jufpWXjHMsm2"
      },
      "source": [
        "## EX05. Hinge Loss"
      ]
    },
    {
      "cell_type": "code",
      "metadata": {
        "colab": {
          "base_uri": "https://localhost:8080/"
        },
        "id": "m9-M6l3GMqVe",
        "outputId": "391efb18-eebd-4ad2-f447-ef31c690027c"
      },
      "source": [
        "# 兩筆資料，分別為實際值及預測值\n",
        "hl_y_true = [[1., 0.], [0., 1.]] # 實際值\n",
        "hl_y_pred = [[0.7, 0.3], [0.3, 0.7]] # 預測值\n",
        "\n",
        "# Hinge Loss\n",
        "loss_function = tf.keras.losses.Hinge()\n",
        "loss_function(hl_y_true, hl_y_pred).numpy()"
      ],
      "execution_count": null,
      "outputs": [
        {
          "output_type": "execute_result",
          "data": {
            "text/plain": [
              "0.79999995"
            ]
          },
          "metadata": {},
          "execution_count": 15
        }
      ]
    },
    {
      "cell_type": "code",
      "metadata": {
        "id": "pNnQOSD9NRJ-"
      },
      "source": [
        ""
      ],
      "execution_count": null,
      "outputs": []
    }
  ]
}